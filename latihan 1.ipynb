{
 "cells": [
  {
   "cell_type": "markdown",
   "id": "81d0d048-8b08-478e-871d-122b7471fdcf",
   "metadata": {},
   "source": [
    "## Soal 1 : Buat program Python yang menghitung jumlah bilangan bulat positif dari 1 hingga n\n",
    "## Misalnya, jika n = 5, program harus menghitung 1 + 2 + 3 + 4 + 5 = 15."
   ]
  },
  {
   "cell_type": "code",
   "execution_count": 1,
   "id": "05501698-821c-47e2-8f4b-67eaaa96f712",
   "metadata": {
    "tags": []
   },
   "outputs": [
    {
     "name": "stdout",
     "output_type": "stream",
     "text": [
      "total dari 1 + 2 +... + 50 = 1275\n",
      "totalnya adalah 1275\n"
     ]
    }
   ],
   "source": [
    "n = 50\n",
    "total = 0\n",
    "for i in  range (1, n+1):\n",
    "    total += i\n",
    "print(f\"total dari 1 + 2 +... + {n} = {total}\")\n",
    "print (f\"totalnya adalah {total}\")"
   ]
  },
  {
   "cell_type": "markdown",
   "id": "e2e4a23e-8975-4952-a76f-31d8d413dd40",
   "metadata": {
    "tags": []
   },
   "source": [
    "## Soal 2: Buat program Python yang menentukan apakah suatu bilangan bulat adalah bilangan prima atau tidak\n",
    "## Sebuah bilangan prima hanya memiliki dua pembagi positif, yaitu 1 dan dirinya sendiri."
   ]
  },
  {
   "cell_type": "code",
   "execution_count": 3,
   "id": "a0cef907-30be-4f54-9f4c-b37686abb303",
   "metadata": {
    "tags": []
   },
   "outputs": [
    {
     "name": "stdout",
     "output_type": "stream",
     "text": [
      "Angka 7 ini bilangan prima\n"
     ]
    }
   ],
   "source": [
    "# jawaban aku sendiri\n",
    "n = 7\n",
    "if n%2 == 0 or n%3 == 0:\n",
    "    print (f\" angka {n} adalah bukan bilangan prima\")\n",
    "else:\n",
    "    print(f'Angka {n} ini bilangan prima')"
   ]
  },
  {
   "cell_type": "code",
   "execution_count": 4,
   "id": "f687108f-b55a-403f-b5dc-56127d713e90",
   "metadata": {
    "tags": []
   },
   "outputs": [
    {
     "name": "stdout",
     "output_type": "stream",
     "text": [
      "Angka 7 adalah bilangan prima\n"
     ]
    }
   ],
   "source": [
    "# jawaban dari CHAT GPT\n",
    "n = 7\n",
    "is_prime = True  # Inisialisasi dengan asumsi n adalah bilangan prima\n",
    "\n",
    "if n <= 1:\n",
    "    is_prime = False  # Bilangan bulat negatif dan 1 bukan bilangan prima\n",
    "elif n <= 3:\n",
    "    is_prime = True  # 2 dan 3 adalah bilangan prima\n",
    "elif n % 2 == 0 or n % 3 == 0:\n",
    "    is_prime = False  # Habis dibagi oleh 2 atau 3 bukan bilangan prima\n",
    "else:\n",
    "    i = 5\n",
    "    while i * i <= n:\n",
    "        if n % i == 0 or n % (i + 2) == 0:\n",
    "            is_prime = False  # Habis dibagi oleh i atau i + 2 bukan bilangan prima\n",
    "            break\n",
    "        i += 6\n",
    "\n",
    "if is_prime:\n",
    "    print(f'Angka {n} adalah bilangan prima')\n",
    "else:\n",
    "    print(f\"Angka {n} bukan bilangan prima\")"
   ]
  },
  {
   "cell_type": "code",
   "execution_count": 5,
   "id": "de16891a-aef0-4f65-9d23-bba8cee15f99",
   "metadata": {
    "tags": []
   },
   "outputs": [
    {
     "name": "stdin",
     "output_type": "stream",
     "text": [
      "Masukkan nilai n:  10\n"
     ]
    },
    {
     "name": "stdout",
     "output_type": "stream",
     "text": [
      "Bilangan prima antara 1 dan 10 adalah: [2, 3, 5, 7]\n"
     ]
    }
   ],
   "source": [
    "def is_prime(num):\n",
    "    if num <= 1:\n",
    "        return False\n",
    "    elif num <= 3:\n",
    "        return True\n",
    "    elif num % 2 == 0 or num % 3 == 0:\n",
    "        return False\n",
    "    else:\n",
    "        i = 5\n",
    "        while i * i <= num:\n",
    "            if num % i == 0 or num % (i + 2) == 0:\n",
    "                return False\n",
    "            i += 6\n",
    "        return True\n",
    "\n",
    "n = int(input(\"Masukkan nilai n: \"))\n",
    "\n",
    "prime_numbers = []\n",
    "\n",
    "for number in range(2, n + 1):  # Mulai dari 2 karena 0 dan 1 bukan bilangan prima\n",
    "    if is_prime(number):\n",
    "        prime_numbers.append(number)\n",
    "\n",
    "print(f\"Bilangan prima antara 1 dan {n} adalah: {prime_numbers}\")"
   ]
  },
  {
   "cell_type": "markdown",
   "id": "0bd3f2f5-209a-4157-9b11-e844c8559e9e",
   "metadata": {},
   "source": [
    "## Soal 3: Buat program Python yang mencetak deret Fibonacci hingga n bilangan.\n",
    "## Deret Fibonacci adalah deret di mana setiap angka adalah jumlah dari dua angka sebelumnya, dengan angka pertama dan kedua adalah 1."
   ]
  },
  {
   "cell_type": "markdown",
   "id": "26f10c64-48ee-47a3-ae71-994925ba7330",
   "metadata": {},
   "source": [
    "### Fibonacci adalah pola bilangan hasil penjumlahan dua bilangan sebelumnya"
   ]
  },
  {
   "cell_type": "code",
   "execution_count": 9,
   "id": "4e41ee98-0584-4abe-8fda-e813fd9d26d7",
   "metadata": {
    "tags": []
   },
   "outputs": [
    {
     "name": "stdin",
     "output_type": "stream",
     "text": [
      "n =  9\n"
     ]
    },
    {
     "ename": "TypeError",
     "evalue": "list.append() takes exactly one argument (2 given)",
     "output_type": "error",
     "traceback": [
      "\u001b[1;31m---------------------------------------------------------------------------\u001b[0m",
      "\u001b[1;31mTypeError\u001b[0m                                 Traceback (most recent call last)",
      "Cell \u001b[1;32mIn[9], line 6\u001b[0m\n\u001b[0;32m      4\u001b[0m deret_fibonacci \u001b[38;5;241m=\u001b[39m []\n\u001b[0;32m      5\u001b[0m \u001b[38;5;28;01mfor\u001b[39;00m i \u001b[38;5;129;01min\u001b[39;00m  \u001b[38;5;28mrange\u001b[39m (\u001b[38;5;241m1\u001b[39m, n\u001b[38;5;241m+\u001b[39m\u001b[38;5;241m1\u001b[39m):\n\u001b[1;32m----> 6\u001b[0m     \u001b[43mderet_fibonacci\u001b[49m\u001b[38;5;241;43m.\u001b[39;49m\u001b[43mappend\u001b[49m\u001b[43m(\u001b[49m\u001b[38;5;241;43m1\u001b[39;49m\u001b[43m,\u001b[49m\u001b[43m \u001b[49m\u001b[43mn\u001b[49m\u001b[38;5;241;43m+\u001b[39;49m\u001b[38;5;241;43m1\u001b[39;49m\u001b[43m)\u001b[49m\n\u001b[0;32m      7\u001b[0m \u001b[38;5;28mprint\u001b[39m(\u001b[38;5;124mf\u001b[39m\u001b[38;5;124m\"\u001b[39m\u001b[38;5;124mtotal dari 1, \u001b[39m\u001b[38;5;132;01m{\u001b[39;00mderet_fibonacci\u001b[38;5;132;01m}\u001b[39;00m\u001b[38;5;124m\"\u001b[39m)\n",
      "\u001b[1;31mTypeError\u001b[0m: list.append() takes exactly one argument (2 given)"
     ]
    }
   ],
   "source": [
    "# jawaban saya\n",
    "n = int(input(\"n = \"))\n",
    "total = 0\n",
    "\n",
    "deret_fibonacci = []\n",
    "for i in  range (1, n+1):\n",
    "    deret_fibonacci.append(1, n+1)\n",
    "print(f\"total dari 1, {deret_fibonacci}\")"
   ]
  },
  {
   "cell_type": "code",
   "execution_count": 10,
   "id": "cb3c9582-221d-4a61-8eb9-51d022e54fd4",
   "metadata": {
    "tags": []
   },
   "outputs": [
    {
     "name": "stdin",
     "output_type": "stream",
     "text": [
      "n =  7\n"
     ]
    },
    {
     "name": "stdout",
     "output_type": "stream",
     "text": [
      "Deret Fibonacci hingga 7 elemen adalah: [1, 1, 2, 3, 5, 8, 13]\n"
     ]
    }
   ],
   "source": [
    "# Jawaban CHATGPT\n",
    "n = int(input(\"n = \"))\n",
    "\n",
    "fibonacci_series = [1, 1]  # Inisialisasi dengan dua elemen pertama\n",
    "\n",
    "for i in range(2, n):\n",
    "    next_fibonacci = fibonacci_series[i - 1] + fibonacci_series[i - 2]\n",
    "    fibonacci_series.append(next_fibonacci)\n",
    "\n",
    "print(f\"Deret Fibonacci hingga {n} elemen adalah: {fibonacci_series}\")"
   ]
  },
  {
   "cell_type": "markdown",
   "id": "bae3db81-b81d-45b5-a541-272aad999727",
   "metadata": {},
   "source": [
    "## Soal 4: Buat program Python yang menghitung faktorial dari suatu bilangan bulat positif n.\n",
    "## Faktorial n (dinyatakan sebagai n!) adalah hasil perkalian semua bilangan bulat positif dari 1 hingga n."
   ]
  },
  {
   "cell_type": "code",
   "execution_count": 14,
   "id": "9b5ecead-8e21-4c19-aeab-f860acc931a6",
   "metadata": {
    "tags": []
   },
   "outputs": [
    {
     "name": "stdin",
     "output_type": "stream",
     "text": [
      "n =  7\n"
     ]
    },
    {
     "name": "stdout",
     "output_type": "stream",
     "text": [
      "total dari 1 x 2 x... x 7 = 5040\n",
      "totalnya adalah 5040\n"
     ]
    }
   ],
   "source": [
    "# jawaban saya\n",
    "n = int(input(\"n = \"))\n",
    "faktorial = 1\n",
    "for i in  range (1, n+1):\n",
    "    faktorial *= i\n",
    "print(f\"total dari 1 x 2 x... x {n} = {faktorial}\")\n",
    "print (f\"totalnya adalah {faktorial}\")"
   ]
  },
  {
   "cell_type": "code",
   "execution_count": 15,
   "id": "30760b66-523e-4395-8cc0-981a73f2af99",
   "metadata": {
    "tags": []
   },
   "outputs": [
    {
     "name": "stdin",
     "output_type": "stream",
     "text": [
      "Masukkan bilangan bulat positif n:  7\n"
     ]
    },
    {
     "name": "stdout",
     "output_type": "stream",
     "text": [
      "Faktorial dari 7 adalah 5040\n"
     ]
    }
   ],
   "source": [
    "# jawaban chatgpt\n",
    "n = int(input(\"Masukkan bilangan bulat positif n: \"))\n",
    "\n",
    "if n < 0:\n",
    "    print(\"Faktorial hanya didefinisikan untuk bilangan bulat positif.\")\n",
    "elif n == 0:\n",
    "    print(\"Faktorial dari 0 adalah 1.\")\n",
    "else:\n",
    "    factorial = 1  # Inisialisasi faktorial dengan 1\n",
    "    for i in range(1, n + 1):\n",
    "        factorial *= i  # Mengalikan dengan setiap bilangan bulat dari 1 hingga n\n",
    "    print(f\"Faktorial dari {n} adalah {factorial}\")"
   ]
  },
  {
   "cell_type": "markdown",
   "id": "a7fb6010-0b62-4fe1-bd4e-7598daf1dfdf",
   "metadata": {},
   "source": [
    "## Soal 5: Buat program Python yang mengambil dua angka, a dan b, dan menghitung hasil a pangkat b (a^b)."
   ]
  },
  {
   "cell_type": "code",
   "execution_count": 18,
   "id": "a4c15a6d-32d3-40bf-947a-8da91e6e2b34",
   "metadata": {
    "tags": []
   },
   "outputs": [
    {
     "name": "stdin",
     "output_type": "stream",
     "text": [
      "a =  5\n",
      "b =  6\n"
     ]
    },
    {
     "name": "stdout",
     "output_type": "stream",
     "text": [
      "hasil dari 5 pangkat 6 adalah 15625\n"
     ]
    }
   ],
   "source": [
    "a = int(input (\"a = \"))\n",
    "b = int(input (\"b = \"))\n",
    "\n",
    "c = a**b\n",
    "print(f\"hasil dari {a} pangkat {b} adalah {c}\")"
   ]
  },
  {
   "cell_type": "code",
   "execution_count": null,
   "id": "1a21e00b-21f8-44ed-befd-8d91ab7c1904",
   "metadata": {},
   "outputs": [],
   "source": []
  }
 ],
 "metadata": {
  "kernelspec": {
   "display_name": "Python 3 (ipykernel)",
   "language": "python",
   "name": "python3"
  },
  "language_info": {
   "codemirror_mode": {
    "name": "ipython",
    "version": 3
   },
   "file_extension": ".py",
   "mimetype": "text/x-python",
   "name": "python",
   "nbconvert_exporter": "python",
   "pygments_lexer": "ipython3",
   "version": "3.11.2"
  }
 },
 "nbformat": 4,
 "nbformat_minor": 5
}
